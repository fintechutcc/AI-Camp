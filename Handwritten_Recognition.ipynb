{
  "nbformat": 4,
  "nbformat_minor": 0,
  "metadata": {
    "colab": {
      "provenance": [],
      "collapsed_sections": [],
      "authorship_tag": "ABX9TyP8PDot/D1bX6APuQS3UqPs",
      "include_colab_link": true
    },
    "kernelspec": {
      "name": "python3",
      "display_name": "Python 3"
    },
    "language_info": {
      "name": "python"
    }
  },
  "cells": [
    {
      "cell_type": "markdown",
      "metadata": {
        "id": "view-in-github",
        "colab_type": "text"
      },
      "source": [
        "<a href=\"https://colab.research.google.com/github/fintechutcc/AI-Camp/blob/main/Handwritten_Recognition.ipynb\" target=\"_parent\"><img src=\"https://colab.research.google.com/assets/colab-badge.svg\" alt=\"Open In Colab\"/></a>"
      ]
    },
    {
      "cell_type": "markdown",
      "source": [
        "# การรู้จำการเขียนตัวเลข"
      ],
      "metadata": {
        "id": "uAufDVOgKzIq"
      }
    },
    {
      "cell_type": "markdown",
      "source": [
        "## ขั้นตอนที่ 1: นำเข้าไลบรารี"
      ],
      "metadata": {
        "id": "yHFatGDIW0lv"
      }
    },
    {
      "cell_type": "code",
      "execution_count": 16,
      "metadata": {
        "id": "YF8YW8xiKrT9"
      },
      "outputs": [],
      "source": [
        "import keras\n",
        "from keras.datasets import mnist\n",
        "from keras.models import Sequential\n",
        "from keras.layers import Dense, Dropout, Flatten\n",
        "from keras.layers import Conv2D, MaxPooling2D\n",
        "from keras import backend as K\n",
        "from tensorflow.keras.utils import to_categorical"
      ]
    },
    {
      "cell_type": "markdown",
      "source": [
        "## ขั้นตอนที่ 2: การเตรียมข้อมูล"
      ],
      "metadata": {
        "id": "8ZdQ0du0W6i3"
      }
    },
    {
      "cell_type": "code",
      "source": [
        "# the data, split between train and test sets\n",
        "(x_train, y_train), (x_test, y_test) = mnist.load_data()\n",
        "\n",
        "print(x_train.shape, y_train.shape)"
      ],
      "metadata": {
        "colab": {
          "base_uri": "https://localhost:8080/"
        },
        "id": "44-QbSyiLHhi",
        "outputId": "ff0b53b6-7b2d-4f30-d310-ac119a536a65"
      },
      "execution_count": 2,
      "outputs": [
        {
          "output_type": "stream",
          "name": "stdout",
          "text": [
            "Downloading data from https://storage.googleapis.com/tensorflow/tf-keras-datasets/mnist.npz\n",
            "11493376/11490434 [==============================] - 0s 0us/step\n",
            "11501568/11490434 [==============================] - 0s 0us/step\n",
            "(60000, 28, 28) (60000,)\n"
          ]
        }
      ]
    },
    {
      "cell_type": "code",
      "source": [
        "batch_size = 128\n",
        "num_classes = 10\n",
        "epochs = 10\n",
        "\n",
        "x_train = x_train.reshape(x_train.shape[0], 28, 28, 1)\n",
        "x_test = x_test.reshape(x_test.shape[0], 28, 28, 1)\n",
        "input_shape = (28, 28, 1)\n",
        "\n",
        "# convert class vectors to binary class matrices\n",
        "y_train = to_categorical(y_train, num_classes)\n",
        "y_test = to_categorical(y_test, num_classes)\n",
        "\n",
        "x_train = x_train.astype('float32')\n",
        "x_test = x_test.astype('float32')\n",
        "x_train /= 255\n",
        "x_test /= 255\n",
        "print('x_train shape:', x_train.shape)\n",
        "print(x_train.shape[0], 'train samples')\n",
        "print(x_test.shape[0], 'test samples')"
      ],
      "metadata": {
        "colab": {
          "base_uri": "https://localhost:8080/"
        },
        "id": "qBM_5zAPLOos",
        "outputId": "6d7bc282-d8f4-4287-a87e-b01c9bd3a2ef"
      },
      "execution_count": 8,
      "outputs": [
        {
          "output_type": "stream",
          "name": "stdout",
          "text": [
            "x_train shape: (60000, 28, 28, 1)\n",
            "60000 train samples\n",
            "10000 test samples\n"
          ]
        }
      ]
    },
    {
      "cell_type": "markdown",
      "source": [
        "## ขั้นตอนที่ 3: การสร้างแบบจำลอง"
      ],
      "metadata": {
        "id": "SRb_LjOCXDeO"
      }
    },
    {
      "cell_type": "code",
      "source": [
        "model = Sequential()\n",
        "model.add(Conv2D(32, kernel_size=(5, 5),activation='relu',input_shape=input_shape))\n",
        "model.add(MaxPooling2D(pool_size=(2, 2)))\n",
        "model.add(Conv2D(64, (3, 3), activation='relu'))\n",
        "model.add(MaxPooling2D(pool_size=(2, 2)))\n",
        "model.add(Flatten())\n",
        "model.add(Dense(128, activation='relu'))\n",
        "model.add(Dropout(0.3))\n",
        "model.add(Dense(64, activation='relu'))\n",
        "model.add(Dropout(0.5))\n",
        "model.add(Dense(num_classes, activation='softmax'))\n",
        "\n",
        "model.compile(loss=keras.losses.categorical_crossentropy,optimizer='adam',metrics=['accuracy'])"
      ],
      "metadata": {
        "id": "DzZvKNLPOJt4"
      },
      "execution_count": 10,
      "outputs": []
    },
    {
      "cell_type": "markdown",
      "source": [
        "## ขั้นตอนที่ 4: การเรียนรู้"
      ],
      "metadata": {
        "id": "-Ldl6tB0XHxX"
      }
    },
    {
      "cell_type": "code",
      "source": [
        "hist = model.fit(x_train, y_train,batch_size=batch_size,epochs=epochs,verbose=1,validation_data=(x_test, y_test))\n",
        "print(\"The model has successfully trained\")\n",
        "\n",
        "model.save('mnist.h5')\n",
        "print(\"Saving the model as mnist.h5\")"
      ],
      "metadata": {
        "colab": {
          "base_uri": "https://localhost:8080/"
        },
        "id": "QoDxHBy-N-vy",
        "outputId": "af340d64-4191-4aa2-ad12-fa18a9402a38"
      },
      "execution_count": 11,
      "outputs": [
        {
          "output_type": "stream",
          "name": "stdout",
          "text": [
            "Epoch 1/10\n",
            "469/469 [==============================] - 50s 105ms/step - loss: 0.4174 - accuracy: 0.8668 - val_loss: 0.0569 - val_accuracy: 0.9818\n",
            "Epoch 2/10\n",
            "469/469 [==============================] - 46s 98ms/step - loss: 0.1155 - accuracy: 0.9688 - val_loss: 0.0475 - val_accuracy: 0.9849\n",
            "Epoch 3/10\n",
            "469/469 [==============================] - 48s 103ms/step - loss: 0.0846 - accuracy: 0.9777 - val_loss: 0.0340 - val_accuracy: 0.9896\n",
            "Epoch 4/10\n",
            "469/469 [==============================] - 47s 100ms/step - loss: 0.0675 - accuracy: 0.9821 - val_loss: 0.0340 - val_accuracy: 0.9890\n",
            "Epoch 5/10\n",
            "469/469 [==============================] - 46s 97ms/step - loss: 0.0548 - accuracy: 0.9855 - val_loss: 0.0355 - val_accuracy: 0.9891\n",
            "Epoch 6/10\n",
            "469/469 [==============================] - 45s 97ms/step - loss: 0.0479 - accuracy: 0.9881 - val_loss: 0.0307 - val_accuracy: 0.9901\n",
            "Epoch 7/10\n",
            "469/469 [==============================] - 46s 98ms/step - loss: 0.0433 - accuracy: 0.9889 - val_loss: 0.0281 - val_accuracy: 0.9917\n",
            "Epoch 8/10\n",
            "469/469 [==============================] - 45s 97ms/step - loss: 0.0407 - accuracy: 0.9895 - val_loss: 0.0241 - val_accuracy: 0.9934\n",
            "Epoch 9/10\n",
            "469/469 [==============================] - 45s 97ms/step - loss: 0.0338 - accuracy: 0.9910 - val_loss: 0.0293 - val_accuracy: 0.9913\n",
            "Epoch 10/10\n",
            "469/469 [==============================] - 46s 97ms/step - loss: 0.0296 - accuracy: 0.9919 - val_loss: 0.0302 - val_accuracy: 0.9913\n",
            "The model has successfully trained\n",
            "Saving the model as mnist.h5\n"
          ]
        }
      ]
    },
    {
      "cell_type": "markdown",
      "source": [
        "## ขั้นตอนที่ 5: การประเมินแบบจำลอง"
      ],
      "metadata": {
        "id": "_07pRw3wXPCb"
      }
    },
    {
      "cell_type": "code",
      "source": [
        "score = model.evaluate(x_test, y_test, verbose=0)\n",
        "print('Test loss:', score[0])\n",
        "print('Test accuracy:', score[1])"
      ],
      "metadata": {
        "colab": {
          "base_uri": "https://localhost:8080/"
        },
        "id": "C0BnqI-RO0go",
        "outputId": "030b46e6-feea-4659-b00a-6ff38ebaebc8"
      },
      "execution_count": 12,
      "outputs": [
        {
          "output_type": "stream",
          "name": "stdout",
          "text": [
            "Test loss: 0.030180465430021286\n",
            "Test accuracy: 0.9912999868392944\n"
          ]
        }
      ]
    }
  ]
}